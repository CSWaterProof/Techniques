{
  "nbformat": 4,
  "nbformat_minor": 0,
  "metadata": {
    "colab": {
      "provenance": [],
      "authorship_tag": "ABX9TyOvh5EScZRMAD7RNCxOw7KJ",
      "include_colab_link": true
    },
    "kernelspec": {
      "name": "python3",
      "display_name": "Python 3"
    },
    "language_info": {
      "name": "python"
    }
  },
  "cells": [
    {
      "cell_type": "markdown",
      "metadata": {
        "id": "view-in-github",
        "colab_type": "text"
      },
      "source": [
        "<a href=\"https://colab.research.google.com/github/WaterProofOrg/Techniques/blob/main/Optimization/linear_programming_practice.ipynb\" target=\"_parent\"><img src=\"https://colab.research.google.com/assets/colab-badge.svg\" alt=\"Open In Colab\"/></a>"
      ]
    },
    {
      "cell_type": "code",
      "execution_count": 1,
      "metadata": {
        "colab": {
          "base_uri": "https://localhost:8080/"
        },
        "id": "NMu8QxE_e7ek",
        "outputId": "25321ecd-3477-42a9-b40b-bdc71d90c30e"
      },
      "outputs": [
        {
          "output_type": "stream",
          "name": "stdout",
          "text": [
            "\u001b[2K     \u001b[90m━━━━━━━━━━━━━━━━━━━━━━━━━━━━━━━━━━━━━━━━\u001b[0m \u001b[32m11.2/11.2 MB\u001b[0m \u001b[31m48.9 MB/s\u001b[0m eta \u001b[36m0:00:00\u001b[0m\n",
            "\u001b[2K     \u001b[90m━━━━━━━━━━━━━━━━━━━━━━━━━━━━━━━━━━━━━━━━\u001b[0m \u001b[32m49.6/49.6 KB\u001b[0m \u001b[31m3.6 MB/s\u001b[0m eta \u001b[36m0:00:00\u001b[0m\n",
            "\u001b[?25hSelecting previously unselected package coinor-libcoinutils3v5.\n",
            "(Reading database ... 128208 files and directories currently installed.)\n",
            "Preparing to unpack .../0-coinor-libcoinutils3v5_2.11.4+repack1-1_amd64.deb ...\n",
            "Unpacking coinor-libcoinutils3v5 (2.11.4+repack1-1) ...\n",
            "Selecting previously unselected package coinor-libosi1v5.\n",
            "Preparing to unpack .../1-coinor-libosi1v5_0.108.6+repack1-1_amd64.deb ...\n",
            "Unpacking coinor-libosi1v5 (0.108.6+repack1-1) ...\n",
            "Selecting previously unselected package coinor-libclp1.\n",
            "Preparing to unpack .../2-coinor-libclp1_1.17.5+repack1-1_amd64.deb ...\n",
            "Unpacking coinor-libclp1 (1.17.5+repack1-1) ...\n",
            "Selecting previously unselected package coinor-libcgl1.\n",
            "Preparing to unpack .../3-coinor-libcgl1_0.60.3+repack1-2_amd64.deb ...\n",
            "Unpacking coinor-libcgl1 (0.60.3+repack1-2) ...\n",
            "Selecting previously unselected package coinor-libcbc3.\n",
            "Preparing to unpack .../4-coinor-libcbc3_2.10.3+repack1-1build1_amd64.deb ...\n",
            "Unpacking coinor-libcbc3 (2.10.3+repack1-1build1) ...\n",
            "Selecting previously unselected package coinor-cbc.\n",
            "Preparing to unpack .../5-coinor-cbc_2.10.3+repack1-1build1_amd64.deb ...\n",
            "Unpacking coinor-cbc (2.10.3+repack1-1build1) ...\n",
            "Setting up coinor-libcoinutils3v5 (2.11.4+repack1-1) ...\n",
            "Setting up coinor-libosi1v5 (0.108.6+repack1-1) ...\n",
            "Setting up coinor-libclp1 (1.17.5+repack1-1) ...\n",
            "Setting up coinor-libcgl1 (0.60.3+repack1-2) ...\n",
            "Setting up coinor-libcbc3 (2.10.3+repack1-1build1) ...\n",
            "Setting up coinor-cbc (2.10.3+repack1-1build1) ...\n",
            "Processing triggers for man-db (2.9.1-1) ...\n",
            "Processing triggers for libc-bin (2.31-0ubuntu9.9) ...\n"
          ]
        }
      ],
      "source": [
        "import matplotlib.pyplot as plt\n",
        "import numpy as np\n",
        "\n",
        "import shutil\n",
        "import sys\n",
        "import os.path\n",
        "\n",
        "if not shutil.which(\"pyomo\"):\n",
        "    !pip install -q pyomo\n",
        "    assert(shutil.which(\"pyomo\"))\n",
        "\n",
        "if not (shutil.which(\"cbc\") or os.path.isfile(\"cbc\")):\n",
        "    if \"google.colab\" in sys.modules:\n",
        "        !apt-get install -y -qq coinor-cbc\n",
        "    else:\n",
        "        try:\n",
        "            !conda install -c conda-forge coincbc \n",
        "        except:\n",
        "            pass\n",
        "\n",
        "assert(shutil.which(\"cbc\") or os.path.isfile(\"cbc\"))\n",
        "\n",
        "from pyomo.environ import *"
      ]
    },
    {
      "cell_type": "code",
      "source": [
        "model = ConcreteModel()\n",
        "\n",
        "# declare decision variables\n",
        "model.x = Var(domain=NonNegativeReals)\n",
        "\n",
        "# declare objective\n",
        "model.profit = Objective(\n",
        "    expr = 40*model.x,\n",
        "    sense = maximize)\n",
        "\n",
        "# declare constraints\n",
        "model.demand = Constraint(expr = model.x <= 60)\n",
        "model.laborA = Constraint(expr = model.x <= 80)\n",
        "model.laborB = Constraint(expr = 2*model.x <= 100)\n",
        "\n",
        "# solve\n",
        "SolverFactory('cbc').solve(model).write()\n",
        "\n",
        "model.profit.display()\n",
        "model.x.display()\n",
        "\n",
        "print(f\"Profit = {model.profit()} per week\")\n",
        "print(f\"X = {model.x()} units per week\")\n"
      ],
      "metadata": {
        "colab": {
          "base_uri": "https://localhost:8080/"
        },
        "id": "8qbN-KNWislB",
        "outputId": "b013352c-bf5b-4e91-a744-bb8b3c8570f2"
      },
      "execution_count": 7,
      "outputs": [
        {
          "output_type": "stream",
          "name": "stdout",
          "text": [
            "# ==========================================================\n",
            "# = Solver Results                                         =\n",
            "# ==========================================================\n",
            "# ----------------------------------------------------------\n",
            "#   Problem Information\n",
            "# ----------------------------------------------------------\n",
            "Problem: \n",
            "- Name: unknown\n",
            "  Lower bound: 2000.0\n",
            "  Upper bound: 2000.0\n",
            "  Number of objectives: 1\n",
            "  Number of constraints: 4\n",
            "  Number of variables: 2\n",
            "  Number of nonzeros: 0\n",
            "  Sense: maximize\n",
            "# ----------------------------------------------------------\n",
            "#   Solver Information\n",
            "# ----------------------------------------------------------\n",
            "Solver: \n",
            "- Status: ok\n",
            "  User time: -1.0\n",
            "  System time: 0.0\n",
            "  Wallclock time: 0.0\n",
            "  Termination condition: optimal\n",
            "  Termination message: Model was solved to optimality (subject to tolerances), and an optimal solution is available.\n",
            "  Statistics: \n",
            "    Branch and bound: \n",
            "      Number of bounded subproblems: None\n",
            "      Number of created subproblems: None\n",
            "    Black box: \n",
            "      Number of iterations: 0\n",
            "  Error rc: 0\n",
            "  Time: 0.03501296043395996\n",
            "# ----------------------------------------------------------\n",
            "#   Solution Information\n",
            "# ----------------------------------------------------------\n",
            "Solution: \n",
            "- number of solutions: 0\n",
            "  number of solutions displayed: 0\n",
            "profit : Size=1, Index=None, Active=True\n",
            "    Key  : Active : Value\n",
            "    None :   True : 2000.0\n",
            "x : Size=1, Index=None\n",
            "    Key  : Lower : Value : Upper : Fixed : Stale : Domain\n",
            "    None :     0 :  50.0 :  None : False : False : NonNegativeReals\n",
            "Profit = 2000.0 per week\n",
            "X = 50.0 units per week\n"
          ]
        }
      ]
    },
    {
      "cell_type": "code",
      "source": [
        "model = ConcreteModel()\n",
        "\n",
        "# declare decision variables\n",
        "model.y = Var(domain=NonNegativeReals)\n",
        "\n",
        "# declare objective\n",
        "model.profit = Objective(\n",
        "    expr = 30*model.y,\n",
        "    sense = maximize)\n",
        "\n",
        "# declare constraints\n",
        "model.laborA = Constraint(expr = model.y <= 80)\n",
        "model.laborB = Constraint(expr = model.y <= 100)\n",
        "\n",
        "# solve\n",
        "SolverFactory('cbc').solve(model).write()\n",
        "\n",
        "model.profit.display()\n",
        "model.y.display()\n",
        "\n",
        "print(f\"Profit = {model.profit()} per week\")\n",
        "print(f\"y = {model.y()} units per week\")\n"
      ],
      "metadata": {
        "colab": {
          "base_uri": "https://localhost:8080/"
        },
        "id": "8bhriWJ_jB_9",
        "outputId": "72045d25-0a1c-4621-a0cd-887727d78b84"
      },
      "execution_count": 10,
      "outputs": [
        {
          "output_type": "stream",
          "name": "stdout",
          "text": [
            "# ==========================================================\n",
            "# = Solver Results                                         =\n",
            "# ==========================================================\n",
            "# ----------------------------------------------------------\n",
            "#   Problem Information\n",
            "# ----------------------------------------------------------\n",
            "Problem: \n",
            "- Name: unknown\n",
            "  Lower bound: 2400.0\n",
            "  Upper bound: 2400.0\n",
            "  Number of objectives: 1\n",
            "  Number of constraints: 3\n",
            "  Number of variables: 2\n",
            "  Number of nonzeros: 0\n",
            "  Sense: maximize\n",
            "# ----------------------------------------------------------\n",
            "#   Solver Information\n",
            "# ----------------------------------------------------------\n",
            "Solver: \n",
            "- Status: ok\n",
            "  User time: -1.0\n",
            "  System time: 0.0\n",
            "  Wallclock time: 0.0\n",
            "  Termination condition: optimal\n",
            "  Termination message: Model was solved to optimality (subject to tolerances), and an optimal solution is available.\n",
            "  Statistics: \n",
            "    Branch and bound: \n",
            "      Number of bounded subproblems: None\n",
            "      Number of created subproblems: None\n",
            "    Black box: \n",
            "      Number of iterations: 0\n",
            "  Error rc: 0\n",
            "  Time: 0.02516627311706543\n",
            "# ----------------------------------------------------------\n",
            "#   Solution Information\n",
            "# ----------------------------------------------------------\n",
            "Solution: \n",
            "- number of solutions: 0\n",
            "  number of solutions displayed: 0\n",
            "profit : Size=1, Index=None, Active=True\n",
            "    Key  : Active : Value\n",
            "    None :   True : 2400.0\n",
            "y : Size=1, Index=None\n",
            "    Key  : Lower : Value : Upper : Fixed : Stale : Domain\n",
            "    None :     0 :  80.0 :  None : False : False : NonNegativeReals\n",
            "Profit = 2400.0 per week\n",
            "y = 80.0 units per week\n"
          ]
        }
      ]
    },
    {
      "cell_type": "code",
      "source": [
        "model = ConcreteModel()\n",
        "\n",
        "# declare decision variables\n",
        "model.x = Var(domain=NonNegativeReals)\n",
        "model.y = Var(domain=NonNegativeReals)\n",
        "\n",
        "# declare objective\n",
        "model.profit = Objective(\n",
        "    expr = 40*model.x + 30*model.y,\n",
        "    sense = maximize)\n",
        "\n",
        "# declare constraints\n",
        "model.demand = Constraint(expr = model.x <= 40)\n",
        "model.laborA = Constraint(expr = model.x + model.y <= 80)\n",
        "model.laborB = Constraint(expr = 2*model.x + model.y <= 100)\n",
        "\n",
        "# solve\n",
        "SolverFactory('cbc').solve(model).write()\n",
        "\n",
        "# display solution\n",
        "print(f\"Profit = {model.profit()}\")\n",
        "print(f\"Units of X = {model.x()}\")\n",
        "print(f\"Units of Y = {model.y()}\")\n"
      ],
      "metadata": {
        "colab": {
          "base_uri": "https://localhost:8080/"
        },
        "id": "zxYouJpbjG16",
        "outputId": "9a533221-3757-4536-e7d5-09638969f070"
      },
      "execution_count": 12,
      "outputs": [
        {
          "output_type": "stream",
          "name": "stdout",
          "text": [
            "# ==========================================================\n",
            "# = Solver Results                                         =\n",
            "# ==========================================================\n",
            "# ----------------------------------------------------------\n",
            "#   Problem Information\n",
            "# ----------------------------------------------------------\n",
            "Problem: \n",
            "- Name: unknown\n",
            "  Lower bound: 2600.0\n",
            "  Upper bound: 2600.0\n",
            "  Number of objectives: 1\n",
            "  Number of constraints: 4\n",
            "  Number of variables: 3\n",
            "  Number of nonzeros: 2\n",
            "  Sense: maximize\n",
            "# ----------------------------------------------------------\n",
            "#   Solver Information\n",
            "# ----------------------------------------------------------\n",
            "Solver: \n",
            "- Status: ok\n",
            "  User time: -1.0\n",
            "  System time: 0.0\n",
            "  Wallclock time: 0.0\n",
            "  Termination condition: optimal\n",
            "  Termination message: Model was solved to optimality (subject to tolerances), and an optimal solution is available.\n",
            "  Statistics: \n",
            "    Branch and bound: \n",
            "      Number of bounded subproblems: None\n",
            "      Number of created subproblems: None\n",
            "    Black box: \n",
            "      Number of iterations: 2\n",
            "  Error rc: 0\n",
            "  Time: 0.025153636932373047\n",
            "# ----------------------------------------------------------\n",
            "#   Solution Information\n",
            "# ----------------------------------------------------------\n",
            "Solution: \n",
            "- number of solutions: 0\n",
            "  number of solutions displayed: 0\n",
            "Profit = 2600.0\n",
            "Units of X = 20.0\n",
            "Units of Y = 60.0\n"
          ]
        }
      ]
    },
    {
      "cell_type": "code",
      "source": [
        "fig, ax = plt.subplots(1, 1, figsize=(6, 6))\n",
        "ax.set_aspect('equal')\n",
        "ax.axis([0, 100, 0, 100])\n",
        "ax.set_xlabel('X Production')\n",
        "ax.set_ylabel('Y Production')\n",
        "\n",
        "# Labor A constraint\n",
        "x = np.array([0, 80])\n",
        "ax.plot(x, 80 - x, 'r', lw=2)\n",
        "\n",
        "# Labor B constraint\n",
        "x = np.array([0, 50])\n",
        "ax.plot(x, 100 - 2*x, 'b', lw=2)\n",
        "\n",
        "# Demand constraint\n",
        "ax.plot([40, 40], [0, 100], 'g', lw=2)\n",
        "\n",
        "ax.legend(['Labor A Constraint', 'Labor B Constraint', 'Demand Constraint'])\n",
        "ax.fill_between([0, 80, 100], [80, 0,0 ], [100, 100, 100], color='r', alpha=0.15)\n",
        "ax.fill_between([0, 50, 100], [100, 0, 0], [100, 100, 100], color='b', alpha=0.15)\n",
        "ax.fill_between([40, 100], [0, 0], [100, 100], color='g', alpha=0.15)\n",
        "\n",
        "# Contours of constant profit\n",
        "x = np.array([0, 100])\n",
        "for p in np.linspace(0, 3600, 10):\n",
        "    y = (p - 40*x)/30\n",
        "    ax.plot(x, y, 'y--')\n",
        "    \n",
        "arrowprops = dict(shrink=.1, width=1, headwidth=5)\n",
        "\n",
        "# Optimum\n",
        "ax.plot(20, 60, 'r.', ms=20)\n",
        "ax.annotate('Mixed Product Strategy', xy=(20, 60), xytext=(50, 70), arrowprops=arrowprops)\n",
        "\n",
        "ax.plot(0, 80, 'b.', ms=20)\n",
        "ax.annotate('Y Only', xy=(0, 80), xytext=(20, 90), arrowprops=arrowprops)\n",
        "\n",
        "ax.plot(40, 0, 'b.', ms=20)\n",
        "ax.annotate('X Only', xy=(40, 0), xytext=(70, 20), arrowprops=arrowprops)\n",
        "\n",
        "ax.text(4, 23, 'Increasing Profit')\n",
        "ax.annotate('', xy=(20, 15), xytext=(0,0), arrowprops=arrowprops)\n",
        "\n",
        "fname = 'LPprog01.png'\n",
        "fname = os.path.join('figures', fname) if os.path.exists('figures') else fname\n",
        "plt.savefig(fname, bbox_inches='tight')"
      ],
      "metadata": {
        "colab": {
          "base_uri": "https://localhost:8080/",
          "height": 392
        },
        "id": "usxoCjL1ksAM",
        "outputId": "4faafa85-9568-4da6-e088-6ed1ead858e0"
      },
      "execution_count": 13,
      "outputs": [
        {
          "output_type": "display_data",
          "data": {
            "text/plain": [
              "<Figure size 432x432 with 1 Axes>"
            ],
            "image/png": "[encoded data removed]"
          },
          "metadata": {
            "needs_background": "light"
          }
        }
      ]
    }
  ]
}